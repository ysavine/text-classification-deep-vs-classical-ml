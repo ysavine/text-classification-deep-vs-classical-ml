{
 "cells": [
  {
   "cell_type": "code",
   "execution_count": null,
   "id": "c61d43a9-dc5f-40d9-be2c-e9fb7760fae5",
   "metadata": {},
   "outputs": [],
   "source": [
    "!pip install datasets\n",
    "!pip install sklearn"
   ]
  },
  {
   "cell_type": "code",
   "execution_count": 1,
   "id": "3d447935-d1e8-4ab0-a54d-dfbacc9a9580",
   "metadata": {},
   "outputs": [],
   "source": [
    "from datasets import load_from_disk\n",
    "from sklearn.ensemble import RandomForestClassifier\n",
    "import torch\n",
    "from tqdm import tqdm"
   ]
  },
  {
   "cell_type": "code",
   "execution_count": 2,
   "id": "53975879-12a5-4828-8af6-c22b285a4d45",
   "metadata": {},
   "outputs": [],
   "source": [
    "device = torch.device('cpu')"
   ]
  },
  {
   "cell_type": "code",
   "execution_count": 3,
   "id": "ce21ed6b-5113-493b-8a44-3f88defa1352",
   "metadata": {},
   "outputs": [
    {
     "data": {
      "text/plain": [
       "DatasetDict({\n",
       "    train: Dataset({\n",
       "        features: ['idx', 'sentence', 'label'],\n",
       "        num_rows: 57246\n",
       "    })\n",
       "    test: Dataset({\n",
       "        features: ['idx', 'sentence', 'label'],\n",
       "        num_rows: 10103\n",
       "    })\n",
       "})"
      ]
     },
     "execution_count": 3,
     "metadata": {},
     "output_type": "execute_result"
    }
   ],
   "source": [
    "import os\n",
    "cdir = os.getcwd()\n",
    "dataset = load_from_disk(str(cdir) + \"/data\")\n",
    "dataset"
   ]
  },
  {
   "cell_type": "code",
   "execution_count": 4,
   "id": "121f1d38-e615-4abe-a928-e52d6d5dc1ea",
   "metadata": {},
   "outputs": [],
   "source": [
    "train_x = torch.load('x_train_tensors.pt', map_location=device)\n",
    "train_y = dataset['train']['label']"
   ]
  },
  {
   "cell_type": "code",
   "execution_count": 5,
   "id": "1a899648-58d6-482b-9129-6bb96d510fe7",
   "metadata": {},
   "outputs": [],
   "source": [
    "test_x = torch.load('x_test_tensors.pt', map_location=device)\n",
    "test_y = dataset['test']['label']"
   ]
  },
  {
   "cell_type": "code",
   "execution_count": 6,
   "id": "17fb3a2e-4499-4f79-b292-579cd00d61af",
   "metadata": {},
   "outputs": [],
   "source": [
    "import random\n",
    "import numpy as np"
   ]
  },
  {
   "cell_type": "code",
   "execution_count": 7,
   "id": "c3a4d30f-f2a2-41e0-b4c8-dff15e7ec496",
   "metadata": {},
   "outputs": [],
   "source": [
    "from sklearn.model_selection import KFold"
   ]
  },
  {
   "cell_type": "code",
   "execution_count": 8,
   "id": "8840107c-ca04-43e5-ae66-acad18850314",
   "metadata": {},
   "outputs": [],
   "source": [
    "def cross_validation(train_x, train_y, c_values, n_folds):\n",
    "    kf = KFold(n_splits=n_folds)\n",
    "    kf.split(train_x)\n",
    "    \n",
    "    # minimizing loss = maximizing accuracy\n",
    "    accuracy_hat = float(\"-inf\")\n",
    "    all_validation_accuracies = []\n",
    "\n",
    "    # iterate over all possible hyperparameters c\n",
    "    for c in tqdm(c_values):\n",
    "        h = RandomForestClassifier(n_estimators = c, random_state = 17)\n",
    "        s, s2 = 0, 0\n",
    "        \n",
    "        # do kfold cross validation\n",
    "        for train_idx, test_idx in kf.split(train_x):\n",
    "            \n",
    "            # fit h on training set\n",
    "            h.fit(train_x[train_idx], np.array(train_y)[train_idx])\n",
    "\n",
    "            # find the accuracy of h on the validation set \n",
    "            accuracy = h.score(train_x[test_idx], \n",
    "                               np.array(train_y)[test_idx])\n",
    "\n",
    "            # update sum of accuracies and accuracy^2\n",
    "            s, s2 = s + accuracy, s2 + accuracy ** 2\n",
    "\n",
    "        # calculate mean accuracy over the n folds\n",
    "        accuracy = s/n_folds\n",
    "\n",
    "        # if this accuracy is better than the best one so far, store\n",
    "        # the hyperparameters, classifier, accuracy and variance\n",
    "        if accuracy > accuracy_hat:\n",
    "            variance = (s2 - accuracy * s)/(n_folds - 1)\n",
    "            c_hat, accuracy_hat, variance_hat = c, accuracy, variance\n",
    "        all_validation_accuracies.append(accuracy)\n",
    "        \n",
    "    # refit the model with the optimal hyperparameters c on the entire \n",
    "    # data\n",
    "    h_hat = RandomForestClassifier(n_estimators = c_hat, random_state = 17)\n",
    "    h_hat.fit(train_x, train_y)\n",
    "    return h_hat, accuracy_hat, variance_hat, all_validation_accuracies"
   ]
  },
  {
   "cell_type": "code",
   "execution_count": 10,
   "id": "4a9046d7-c65a-4275-b398-29f75f25b9b0",
   "metadata": {},
   "outputs": [
    {
     "name": "stderr",
     "output_type": "stream",
     "text": [
      "100%|██████████| 11/11 [1:50:02<00:00, 600.23s/it]\n"
     ]
    }
   ],
   "source": [
    "import time\n",
    "start = time.time()\n",
    "c_vals = [i for i in range(50, 301, 25)]\n",
    "(h_hat, \n",
    " L_hat, variance_hat, all_validation_accuracies) = cross_validation(train_x, train_y, \n",
    "                                                                    c_vals, 3)\n",
    "end = time.time()"
   ]
  },
  {
   "cell_type": "code",
   "execution_count": null,
   "id": "c5dc8146-3ac9-4b44-a314-114cdff85fff",
   "metadata": {},
   "outputs": [],
   "source": [
    "# print(h_hat, L_hat, variance_hat, all_validation_accuracies)"
   ]
  },
  {
   "cell_type": "code",
   "execution_count": 11,
   "id": "c13f22e6-34aa-4800-a888-fe33f92793b7",
   "metadata": {},
   "outputs": [
    {
     "data": {
      "text/plain": [
       "[<matplotlib.lines.Line2D at 0x7f774debe340>]"
      ]
     },
     "execution_count": 11,
     "metadata": {},
     "output_type": "execute_result"
    },
    {
     "data": {
      "image/png": "[encoded data removed]",
      "text/plain": [
       "<Figure size 432x288 with 1 Axes>"
      ]
     },
     "metadata": {
      "needs_background": "light"
     },
     "output_type": "display_data"
    }
   ],
   "source": [
    "import matplotlib.pyplot as plt\n",
    "ax = plt.gca()\n",
    "ax.set(xlabel = \"C values\", ylabel = \"Validation Accuracy\", \n",
    "       title = \"Validation Accuracies for different C Values\")\n",
    "plt.plot(c_vals, all_validation_accuracies)"
   ]
  },
  {
   "cell_type": "code",
   "execution_count": 17,
   "id": "84d905f6-1d98-4154-b692-17b1e8a86532",
   "metadata": {},
   "outputs": [
    {
     "name": "stdout",
     "output_type": "stream",
     "text": [
      "RandomForestClassifier(n_estimators=275, random_state=17) 0.8570729832652063 7.407758855659807e-06\n"
     ]
    }
   ],
   "source": [
    "print(h_hat, L_hat, variance_hat)"
   ]
  },
  {
   "cell_type": "code",
   "execution_count": 13,
   "id": "bb77106d-a738-4e56-b837-a40ec2db075d",
   "metadata": {},
   "outputs": [
    {
     "data": {
      "text/plain": [
       "RandomForestClassifier(n_estimators=275, random_state=17)"
      ]
     },
     "execution_count": 13,
     "metadata": {},
     "output_type": "execute_result"
    }
   ],
   "source": [
    "# h_hat.fit(train_x, train_y)"
   ]
  },
  {
   "cell_type": "code",
   "execution_count": 16,
   "id": "460dfbd9-5ec9-4a45-af69-4edcf06c0bd0",
   "metadata": {},
   "outputs": [
    {
     "data": {
      "text/plain": [
       "0.8692467583885974"
      ]
     },
     "execution_count": 16,
     "metadata": {},
     "output_type": "execute_result"
    }
   ],
   "source": [
    "h_hat.score(test_x, test_y)"
   ]
  }
 ],
 "metadata": {
  "kernelspec": {
   "display_name": "Python 3 (ipykernel)",
   "language": "python",
   "name": "python3"
  },
  "language_info": {
   "codemirror_mode": {
    "name": "ipython",
    "version": 3
   },
   "file_extension": ".py",
   "mimetype": "text/x-python",
   "name": "python",
   "nbconvert_exporter": "python",
   "pygments_lexer": "ipython3",
   "version": "3.9.7"
  }
 },
 "nbformat": 4,
 "nbformat_minor": 5
}
