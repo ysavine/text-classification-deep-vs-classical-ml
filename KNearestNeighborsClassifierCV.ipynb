{
 "cells": [
  {
   "cell_type": "code",
   "execution_count": 1,
   "id": "c61d43a9-dc5f-40d9-be2c-e9fb7760fae5",
   "metadata": {},
   "outputs": [
    {
     "name": "stdout",
     "output_type": "stream",
     "text": [
      "Requirement already satisfied: datasets in /opt/conda/lib/python3.9/site-packages (2.18.0)\n",
      "Requirement already satisfied: huggingface-hub>=0.19.4 in /opt/conda/lib/python3.9/site-packages (from datasets) (0.22.2)\n",
      "Requirement already satisfied: xxhash in /opt/conda/lib/python3.9/site-packages (from datasets) (3.4.1)\n",
      "Requirement already satisfied: dill<0.3.9,>=0.3.0 in /opt/conda/lib/python3.9/site-packages (from datasets) (0.3.8)\n",
      "Requirement already satisfied: pyarrow-hotfix in /opt/conda/lib/python3.9/site-packages (from datasets) (0.6)\n",
      "Requirement already satisfied: tqdm>=4.62.1 in /opt/conda/lib/python3.9/site-packages (from datasets) (4.62.3)\n",
      "Requirement already satisfied: pandas in /opt/conda/lib/python3.9/site-packages (from datasets) (1.3.5)\n",
      "Requirement already satisfied: multiprocess in /opt/conda/lib/python3.9/site-packages (from datasets) (0.70.16)\n",
      "Requirement already satisfied: fsspec[http]<=2024.2.0,>=2023.1.0 in /opt/conda/lib/python3.9/site-packages (from datasets) (2024.2.0)\n",
      "Requirement already satisfied: packaging in /opt/conda/lib/python3.9/site-packages (from datasets) (21.3)\n",
      "Requirement already satisfied: aiohttp in /opt/conda/lib/python3.9/site-packages (from datasets) (3.8.1)\n",
      "Requirement already satisfied: filelock in /opt/conda/lib/python3.9/site-packages (from datasets) (3.13.4)\n",
      "Requirement already satisfied: requests>=2.19.0 in /opt/conda/lib/python3.9/site-packages (from datasets) (2.26.0)\n",
      "Requirement already satisfied: pyarrow>=12.0.0 in /opt/conda/lib/python3.9/site-packages (from datasets) (15.0.2)\n",
      "Requirement already satisfied: numpy>=1.17 in /opt/conda/lib/python3.9/site-packages (from datasets) (1.21.5)\n",
      "Requirement already satisfied: pyyaml>=5.1 in /opt/conda/lib/python3.9/site-packages (from datasets) (6.0)\n",
      "Requirement already satisfied: attrs>=17.3.0 in /opt/conda/lib/python3.9/site-packages (from aiohttp->datasets) (21.2.0)\n",
      "Requirement already satisfied: frozenlist>=1.1.1 in /opt/conda/lib/python3.9/site-packages (from aiohttp->datasets) (1.2.0)\n",
      "Requirement already satisfied: async-timeout<5.0,>=4.0.0a3 in /opt/conda/lib/python3.9/site-packages (from aiohttp->datasets) (4.0.2)\n",
      "Requirement already satisfied: yarl<2.0,>=1.0 in /opt/conda/lib/python3.9/site-packages (from aiohttp->datasets) (1.7.2)\n",
      "Requirement already satisfied: multidict<7.0,>=4.5 in /opt/conda/lib/python3.9/site-packages (from aiohttp->datasets) (5.2.0)\n",
      "Requirement already satisfied: aiosignal>=1.1.2 in /opt/conda/lib/python3.9/site-packages (from aiohttp->datasets) (1.2.0)\n",
      "Requirement already satisfied: charset-normalizer<3.0,>=2.0 in /opt/conda/lib/python3.9/site-packages (from aiohttp->datasets) (2.0.9)\n",
      "Requirement already satisfied: typing-extensions>=3.7.4.3 in /opt/conda/lib/python3.9/site-packages (from huggingface-hub>=0.19.4->datasets) (4.0.1)\n",
      "Requirement already satisfied: pyparsing!=3.0.5,>=2.0.2 in /opt/conda/lib/python3.9/site-packages (from packaging->datasets) (3.0.6)\n",
      "Requirement already satisfied: idna<4,>=2.5 in /opt/conda/lib/python3.9/site-packages (from requests>=2.19.0->datasets) (3.1)\n",
      "Requirement already satisfied: urllib3<1.27,>=1.21.1 in /opt/conda/lib/python3.9/site-packages (from requests>=2.19.0->datasets) (1.26.7)\n",
      "Requirement already satisfied: certifi>=2017.4.17 in /opt/conda/lib/python3.9/site-packages (from requests>=2.19.0->datasets) (2021.10.8)\n",
      "Requirement already satisfied: python-dateutil>=2.7.3 in /opt/conda/lib/python3.9/site-packages (from pandas->datasets) (2.8.2)\n",
      "Requirement already satisfied: pytz>=2017.3 in /opt/conda/lib/python3.9/site-packages (from pandas->datasets) (2021.3)\n",
      "Requirement already satisfied: six>=1.5 in /opt/conda/lib/python3.9/site-packages (from python-dateutil>=2.7.3->pandas->datasets) (1.15.0)\n",
      "Requirement already satisfied: sklearn in /opt/conda/lib/python3.9/site-packages (0.0)\n",
      "Requirement already satisfied: scikit-learn in /opt/conda/lib/python3.9/site-packages (from sklearn) (1.0.1)\n",
      "Requirement already satisfied: scipy>=1.1.0 in /opt/conda/lib/python3.9/site-packages (from scikit-learn->sklearn) (1.7.3)\n",
      "Requirement already satisfied: joblib>=0.11 in /opt/conda/lib/python3.9/site-packages (from scikit-learn->sklearn) (1.1.0)\n",
      "Requirement already satisfied: numpy>=1.14.6 in /opt/conda/lib/python3.9/site-packages (from scikit-learn->sklearn) (1.21.5)\n",
      "Requirement already satisfied: threadpoolctl>=2.0.0 in /opt/conda/lib/python3.9/site-packages (from scikit-learn->sklearn) (3.0.0)\n"
     ]
    }
   ],
   "source": [
    "!pip install datasets\n",
    "!pip install sklearn"
   ]
  },
  {
   "cell_type": "code",
   "execution_count": 1,
   "id": "3d447935-d1e8-4ab0-a54d-dfbacc9a9580",
   "metadata": {},
   "outputs": [],
   "source": [
    "from datasets import load_from_disk\n",
    "from sklearn.neighbors import KNeighborsClassifier\n",
    "from sklearn.ensemble import RandomForestClassifier\n",
    "import torch\n",
    "from tqdm import tqdm"
   ]
  },
  {
   "cell_type": "code",
   "execution_count": 2,
   "id": "53975879-12a5-4828-8af6-c22b285a4d45",
   "metadata": {},
   "outputs": [],
   "source": [
    "device = torch.device('cpu')"
   ]
  },
  {
   "cell_type": "code",
   "execution_count": 3,
   "id": "ce21ed6b-5113-493b-8a44-3f88defa1352",
   "metadata": {},
   "outputs": [
    {
     "data": {
      "text/plain": [
       "DatasetDict({\n",
       "    train: Dataset({\n",
       "        features: ['idx', 'sentence', 'label'],\n",
       "        num_rows: 57246\n",
       "    })\n",
       "    test: Dataset({\n",
       "        features: ['idx', 'sentence', 'label'],\n",
       "        num_rows: 10103\n",
       "    })\n",
       "})"
      ]
     },
     "execution_count": 3,
     "metadata": {},
     "output_type": "execute_result"
    }
   ],
   "source": [
    "import os\n",
    "cdir = os.getcwd()\n",
    "dataset = load_from_disk(str(cdir) + \"/data\")\n",
    "dataset"
   ]
  },
  {
   "cell_type": "code",
   "execution_count": 4,
   "id": "121f1d38-e615-4abe-a928-e52d6d5dc1ea",
   "metadata": {},
   "outputs": [],
   "source": [
    "train_x = torch.load('x_train_tensors.pt', map_location=device)\n",
    "train_y = dataset['train']['label']"
   ]
  },
  {
   "cell_type": "code",
   "execution_count": 5,
   "id": "1a899648-58d6-482b-9129-6bb96d510fe7",
   "metadata": {},
   "outputs": [],
   "source": [
    "test_x = torch.load('x_test_tensors.pt', map_location=device)\n",
    "test_y = dataset['test']['label']"
   ]
  },
  {
   "cell_type": "code",
   "execution_count": 9,
   "id": "830da2a8-d906-42db-b36c-6438eb1a788b",
   "metadata": {},
   "outputs": [],
   "source": [
    "from sklearn.model_selection import KFold\n",
    "import numpy as np"
   ]
  },
  {
   "cell_type": "code",
   "execution_count": 10,
   "id": "ddf52878-fcea-4cac-bc0d-e4bb9e095d1c",
   "metadata": {},
   "outputs": [],
   "source": [
    "def cross_validation(train_x, train_y, c_values, n_folds):\n",
    "    kf = KFold(n_splits=n_folds)\n",
    "    kf.split(train_x)\n",
    "    \n",
    "    # minimizing loss = maximizing accuracy\n",
    "    accuracy_hat = float(\"-inf\")\n",
    "    all_validation_accuracies = []\n",
    "\n",
    "    # iterate over all possible hyperparameters c\n",
    "    for c in tqdm(c_values):\n",
    "        h = KNeighborsClassifier(n_neighbors = c)\n",
    "        s, s2 = 0, 0\n",
    "        \n",
    "        # do kfold cross validation\n",
    "        for train_idx, test_idx in kf.split(train_x):\n",
    "            \n",
    "            # fit h on training set\n",
    "            h.fit(train_x[train_idx], np.array(train_y)[train_idx])\n",
    "\n",
    "            # find the accuracy of h on the validation set \n",
    "            accuracy = h.score(train_x[test_idx], \n",
    "                               np.array(train_y)[test_idx])\n",
    "\n",
    "            # update sum of accuracies and accuracy^2\n",
    "            s, s2 = s + accuracy, s2 + accuracy ** 2\n",
    "\n",
    "        # calculate mean accuracy over the n folds\n",
    "        accuracy = s/n_folds\n",
    "\n",
    "        # if this accuracy is better than the best one so far, store\n",
    "        # the hyperparameters, classifier, accuracy and variance\n",
    "        if accuracy > accuracy_hat:\n",
    "            variance = (s2 - accuracy * s)/(n_folds - 1)\n",
    "            c_hat, accuracy_hat, variance_hat = c, accuracy, variance\n",
    "        all_validation_accuracies.append(accuracy)\n",
    "        \n",
    "    # refit the model with the optimal hyperparameters c on the entire \n",
    "    # data\n",
    "    h_hat = KNeighborsClassifier(n_neighbors = c_hat)\n",
    "    h_hat.fit(train_x, train_y)\n",
    "    return h_hat, accuracy_hat, variance_hat, all_validation_accuracies"
   ]
  },
  {
   "cell_type": "code",
   "execution_count": 11,
   "id": "7a55f0b1-9ea2-45d0-8df4-1d2f00944c72",
   "metadata": {},
   "outputs": [
    {
     "name": "stderr",
     "output_type": "stream",
     "text": [
      "100%|██████████| 9/9 [12:42<00:00, 84.73s/it]"
     ]
    },
    {
     "name": "stdout",
     "output_type": "stream",
     "text": [
      "762.6597502231598\n"
     ]
    },
    {
     "name": "stderr",
     "output_type": "stream",
     "text": [
      "\n"
     ]
    }
   ],
   "source": [
    "import time\n",
    "start = time.time()\n",
    "c_vals = [i for i in range(1, 10)]\n",
    "(h_hat, \n",
    " L_hat, variance_hat, all_validation_accuracies) = cross_validation(train_x, train_y, \n",
    "                                                                    c_vals, 3)\n",
    "end = time.time()\n",
    "print(end-start)"
   ]
  },
  {
   "cell_type": "code",
   "execution_count": 12,
   "id": "ac0cc70c-f036-40a2-90cc-3ea5ee3fe4a3",
   "metadata": {},
   "outputs": [
    {
     "data": {
      "text/plain": [
       "[<matplotlib.lines.Line2D at 0x7f0efde62ca0>]"
      ]
     },
     "execution_count": 12,
     "metadata": {},
     "output_type": "execute_result"
    },
    {
     "data": {
      "image/png": "[encoded data removed]",
      "text/plain": [
       "<Figure size 432x288 with 1 Axes>"
      ]
     },
     "metadata": {
      "needs_background": "light"
     },
     "output_type": "display_data"
    }
   ],
   "source": [
    "import matplotlib.pyplot as plt\n",
    "ax = plt.gca()\n",
    "ax.set(xlabel = \"C values\", ylabel = \"Validation Accuracy\", \n",
    "       title = \"Validation Accuracies for different C Values\")\n",
    "plt.plot(c_vals, all_validation_accuracies)"
   ]
  },
  {
   "cell_type": "code",
   "execution_count": 13,
   "id": "bb444712-892d-4c53-93fb-3ff265375ad3",
   "metadata": {},
   "outputs": [
    {
     "name": "stdout",
     "output_type": "stream",
     "text": [
      "KNeighborsClassifier(n_neighbors=1) 0.8663836774621808 2.3828046868290542e-05\n"
     ]
    }
   ],
   "source": [
    "print(h_hat, L_hat, variance_hat)"
   ]
  },
  {
   "cell_type": "code",
   "execution_count": 15,
   "id": "cdfe8364-7701-4c5c-b31a-babaeffbc1bb",
   "metadata": {},
   "outputs": [],
   "source": [
    "training_accuracy = h_hat.score(train_x, train_y)\n",
    "testing_accuracy = h_hat.score(test_x, test_y)"
   ]
  },
  {
   "cell_type": "code",
   "execution_count": 16,
   "id": "dbc1a2f2-3fd4-4511-bd4a-bb8cad587412",
   "metadata": {},
   "outputs": [
    {
     "name": "stdout",
     "output_type": "stream",
     "text": [
      "Testing accuracy: 0.8849846580223696\n",
      "Training accuracy: 0.9999475945917619\n"
     ]
    }
   ],
   "source": [
    "print('Testing accuracy:', testing_accuracy)\n",
    "print('Training accuracy:', training_accuracy)"
   ]
  }
 ],
 "metadata": {
  "kernelspec": {
   "display_name": "Python 3 (ipykernel)",
   "language": "python",
   "name": "python3"
  },
  "language_info": {
   "codemirror_mode": {
    "name": "ipython",
    "version": 3
   },
   "file_extension": ".py",
   "mimetype": "text/x-python",
   "name": "python",
   "nbconvert_exporter": "python",
   "pygments_lexer": "ipython3",
   "version": "3.9.7"
  }
 },
 "nbformat": 4,
 "nbformat_minor": 5
}
